{
 "cells": [
  {
   "cell_type": "code",
   "execution_count": 1,
   "id": "01542a09",
   "metadata": {},
   "outputs": [],
   "source": [
    "import time\n",
    "\n",
    "from selenium import webdriver\n",
    "from selenium.webdriver.common.by import By\n",
    "from selenium.webdriver.support.ui import WebDriverWait\n",
    "from selenium.webdriver.support import expected_conditions as EC\n",
    "from selenium.common.exceptions import StaleElementReferenceException\n",
    "\n",
    "from webdriver_manager.chrome import ChromeDriverManager\n",
    "from selenium.webdriver.chrome.service import Service\n",
    "\n",
    "from bs4 import BeautifulSoup\n",
    "import pandas as pd\n",
    "from datetime import datetime\n",
    "import re\n",
    "import math"
   ]
  },
  {
   "cell_type": "code",
   "execution_count": 2,
   "id": "5f0f00b3",
   "metadata": {},
   "outputs": [],
   "source": [
    "servico = Service(ChromeDriverManager().install())\n",
    "navegador = webdriver.Chrome(service=servico)\n",
    "navegador.get(\"https://esaj.tjsp.jus.br/cjpg/\")"
   ]
  },
  {
   "cell_type": "code",
   "execution_count": 3,
   "id": "c63fe0ad",
   "metadata": {},
   "outputs": [],
   "source": [
    "# Aguarde até que o botão seja visível e clicável\n",
    "wait = WebDriverWait(navegador, 10)\n",
    "botao_procurar = wait.until(EC.element_to_be_clickable((By.ID, \"botaoProcurar_assunto\")))\n",
    "botao_procurar.click()"
   ]
  },
  {
   "cell_type": "code",
   "execution_count": 4,
   "id": "4e25861d",
   "metadata": {},
   "outputs": [],
   "source": [
    "# Role a página até que o elemento seja visível\n",
    "elemento1 = wait.until(EC.element_to_be_clickable((By.XPATH, '//*[@id=\"assunto_tree_node_10064\"]')))\n",
    "navegador.execute_script(\"arguments[0].scrollIntoView();\", elemento1)\n",
    "\n",
    "elemento1.click()"
   ]
  },
  {
   "cell_type": "code",
   "execution_count": 5,
   "id": "2032f3cf",
   "metadata": {},
   "outputs": [],
   "source": [
    "# Role a página até que o elemento seja visível\n",
    "elemento2 = wait.until(EC.element_to_be_clickable((By.XPATH, '//*[@id=\"assunto_tree_node_6684\"]')))\n",
    "navegador.execute_script(\"arguments[0].scrollIntoView();\", elemento2)\n",
    "\n",
    "elemento2.click()"
   ]
  },
  {
   "cell_type": "code",
   "execution_count": 6,
   "id": "4922bb06",
   "metadata": {},
   "outputs": [],
   "source": [
    "# Reduza o zoom da página para tornar o terceiro elemento visível\n",
    "navegador.execute_script(\"document.body.style.zoom='80%'\")\n",
    "\n",
    "# Aguarde um curto intervalo de tempo antes de clicar no elemento\n",
    "time.sleep(0.5)\n",
    "\n",
    "# Clique no terceiro elemento usando execute_script\n",
    "elemento_3 = navegador.find_element(By.XPATH, '//*[@id=\"assunto_treeSelectContainer\"]/div[3]/table/tbody/tr/td/input[1]')\n",
    "navegador.execute_script(\"arguments[0].click();\", elemento_3)"
   ]
  },
  {
   "cell_type": "code",
   "execution_count": 7,
   "id": "cbf8ad9a",
   "metadata": {},
   "outputs": [],
   "source": [
    "# Dá pra voltar até 2009\n",
    "ano = '2018'"
   ]
  },
  {
   "cell_type": "code",
   "execution_count": 8,
   "id": "d459dc55",
   "metadata": {},
   "outputs": [],
   "source": [
    "elemento4 = navegador.find_element(By.XPATH, '//*[@id=\"iddadosConsulta.dtInicio\"]')\n",
    "elemento4.send_keys('01/01/' + ano)\n",
    "    \n",
    "elemento5 = navegador.find_element(By.XPATH, '//*[@id=\"iddadosConsulta.dtFim\"]')\n",
    "elemento5.send_keys('31/03/' + ano)\n",
    "# março 31\n",
    "# junho 30\n",
    "# setembro 30"
   ]
  },
  {
   "cell_type": "code",
   "execution_count": 9,
   "id": "d9170154",
   "metadata": {},
   "outputs": [],
   "source": [
    "# Clique no botão submit usando execute_script\n",
    "botao_submit = navegador.find_element(By.XPATH, '//*[@id=\"pbSubmit\"]')\n",
    "navegador.execute_script(\"arguments[0].click();\", botao_submit)"
   ]
  },
  {
   "cell_type": "code",
   "execution_count": 10,
   "id": "3ee8e7c9",
   "metadata": {},
   "outputs": [],
   "source": [
    "html = navegador.page_source\n",
    "soup = BeautifulSoup(html, 'html.parser')\n",
    "\n",
    "texto_geral = soup.find('div', attrs={'id': 'resultados'}).find('td')\n",
    "\n",
    "strong_text = texto_geral.find('strong').get_text().strip()\n",
    "\n",
    "# Achar o texto total dentro do <td> tag\n",
    "td_text = texto_geral.get_text().strip()\n",
    "\n",
    "# Substituir o texto do <strong> tag dentro do <td> text\n",
    "final_text = td_text.replace(strong_text, '').strip()\n",
    "\n",
    "# Remove \"de \" do texto final\n",
    "#final_text = final_text.replace(\"de \", \"\").strip()\n",
    "\n",
    "# Usa expressão regular para limpar o texto e deixar apenas os números\n",
    "final_text = re.sub(r'\\D', '', final_text)\n",
    "\n",
    "numero_casos = int(final_text)\n",
    "numero_maximo_paginas = numero_casos/10\n",
    "numero_maximo_paginas = math.ceil(numero_maximo_paginas)"
   ]
  },
  {
   "cell_type": "code",
   "execution_count": null,
   "id": "91616cb5",
   "metadata": {
    "scrolled": true
   },
   "outputs": [
    {
     "name": "stdout",
     "output_type": "stream",
     "text": [
      "1/346\n"
     ]
    }
   ],
   "source": [
    "info_decisoes = []\n",
    "\n",
    "for pagina_numero in range(1, numero_maximo_paginas + 1):\n",
    "    print(str(pagina_numero)+\"/\"+str(numero_maximo_paginas))\n",
    "    \n",
    "    html = navegador.page_source\n",
    "    soup = BeautifulSoup(html, 'html.parser')\n",
    "    \n",
    "    element = WebDriverWait(navegador, 120).until(\n",
    "        EC.visibility_of_element_located((By.XPATH, '//*[@id=\"divDadosResultado\"]/table/tbody/tr[1]/td[2]/table/tbody/tr[1]/td'))  # Insira o XPath do elemento desejado aqui\n",
    "    )\n",
    "    \n",
    "    lista_de_tr = soup.find('div', attrs={'id': 'divDadosResultado'}).find('table').find('tbody').find_all('tr', class_='fundocinza1')\n",
    "    \n",
    "    for tr in lista_de_tr:\n",
    "        infos = tr.find(\"tbody\").find_all(\"tr\")\n",
    "\n",
    "        num_processo = infos[0].find(\"a\").text.strip() if infos[0].select_one('a') else ''\n",
    "        classe = infos[1].select_one('td > strong').next_sibling.strip() if infos[1].select_one('td > strong') else ''\n",
    "        assunto = infos[2].select_one('td > strong').next_sibling.strip() if infos[2].select_one('td > strong') else ''\n",
    "        magistrado = infos[3].select_one('td > strong').next_sibling.strip() if infos[3].select_one('td > strong') else ''\n",
    "        comarca = infos[4].select_one('td > strong').next_sibling.strip() if infos[4].select_one('td > strong') else ''\n",
    "        foro = infos[5].select_one('td > strong').next_sibling.strip() if infos[5].select_one('td > strong') else ''\n",
    "        vara = infos[6].select_one('td > strong').next_sibling.strip() if infos[6].select_one('td > strong') else ''\n",
    "        data = infos[7].select_one('td > strong').next_sibling.strip() if infos[7].select_one('td > strong') else ''\n",
    "        if len(infos) > 8:\n",
    "            ementa_maior = infos[8].find(\"div\", style='display: none;').text.strip() if infos[8].find(\"div\", style='display: none;') else ''\n",
    "        else:\n",
    "            ementa_maior = ''\n",
    "        \n",
    "        info_decisoes.append([num_processo, classe, assunto, magistrado, comarca, foro, vara, data, ementa_maior])#, new_window_url])\n",
    "    \n",
    "    # Verificar se a página atual é menor ou igual ao número máximo de páginas definido\n",
    "    if pagina_numero == 1:\n",
    "        numero_pagina = WebDriverWait(navegador, 120).until(\n",
    "            EC.visibility_of_element_located((By.XPATH, '//*[@id=\"resultados\"]/table[1]/tbody/tr[1]/td[2]/div/a[1]'))  # Insira o XPath do elemento desejado aqui\n",
    "        )\n",
    "        numero_pagina.click()\n",
    "    else:\n",
    "        if pagina_numero == 2:\n",
    "            numero_pagina = WebDriverWait(navegador, 120).until(\n",
    "                EC.visibility_of_element_located((By.XPATH, '//*[@id=\"resultados\"]/table[1]/tbody/tr[1]/td[2]/div/a[3]'))  # Insira o XPath do elemento desejado aqui\n",
    "            )\n",
    "            numero_pagina.click()\n",
    "        else:\n",
    "            if pagina_numero == numero_maximo_paginas - 1:\n",
    "                numero_pagina = WebDriverWait(navegador, 120).until(\n",
    "                    EC.visibility_of_element_located((By.XPATH, '//*[@id=\"resultados\"]/table[1]/tbody/tr[1]/td[2]/div/a[5]'))  # Insira o XPath do elemento desejado aqui\n",
    "                )\n",
    "                numero_pagina.click()\n",
    "            elif pagina_numero < numero_maximo_paginas:\n",
    "                numero_pagina = WebDriverWait(navegador, 180).until(\n",
    "                    EC.visibility_of_element_located((By.XPATH, '//*[@id=\"resultados\"]/table[1]/tbody/tr[1]/td[2]/div/a[4]'))  # Insira o XPath do elemento desejado aqui\n",
    "                )\n",
    "                numero_pagina.click()        \n",
    "    time.sleep(5)"
   ]
  },
  {
   "cell_type": "code",
   "execution_count": null,
   "id": "8d256b6d",
   "metadata": {},
   "outputs": [],
   "source": [
    "decisoes_df = pd.DataFrame(info_decisoes)\n",
    "decisoes_df.columns = [\"Nº do Processo\", \"Classe\", \"Assunto\", \"Magistrado\", \"Comarca\", \"Foro\", \"Vara\", \"Data\", \"Ementa\"]#, \"Link\"]\n",
    "\n",
    "agora = datetime.now().strftime(\"%Y%m%d%H%M%S\")\n",
    "nome_arquivo = \"esaj1-\" + ano + \"-1-\" + agora + \".xlsx\"\n",
    "decisoes_df.to_excel(nome_arquivo, index=False)"
   ]
  }
 ],
 "metadata": {
  "kernelspec": {
   "display_name": "Python 3 (ipykernel)",
   "language": "python",
   "name": "python3"
  },
  "language_info": {
   "codemirror_mode": {
    "name": "ipython",
    "version": 3
   },
   "file_extension": ".py",
   "mimetype": "text/x-python",
   "name": "python",
   "nbconvert_exporter": "python",
   "pygments_lexer": "ipython3",
   "version": "3.9.12"
  }
 },
 "nbformat": 4,
 "nbformat_minor": 5
}
