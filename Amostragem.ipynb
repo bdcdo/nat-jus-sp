{
 "cells": [
  {
   "cell_type": "code",
   "execution_count": 21,
   "id": "03d5995e",
   "metadata": {},
   "outputs": [],
   "source": [
    "### O programa tem como objetivo criar uma amostra representativa a partir de uma planilha que contenha o universo de casos. "
   ]
  },
  {
   "cell_type": "code",
   "execution_count": null,
   "id": "6c634a4b",
   "metadata": {},
   "outputs": [],
   "source": [
    "# Importa as bibliotecas necessárias\n",
    "\n",
    "# Pandas é uma biblioteca popular para manipulação de planilhas.\n",
    "import pandas as pd\n",
    "\n",
    "# Random é uma biblioteca que permite gerar números aleatórios.\n",
    "import random\n",
    "\n",
    "# Openpyxl é uma biblioteca para trabalhar com arquivos do Excel.\n",
    "from openpyxl import Workbook, load_workbook\n",
    "\n",
    "# Math é uma biblioteca que fornece funções matemáticas.\n",
    "import math\n",
    "\n",
    "# Scipy.stats é uma biblioteca que oferece funcionalidades estatísticas.\n",
    "from scipy import stats"
   ]
  },
  {
   "cell_type": "code",
   "execution_count": 35,
   "id": "41cf3306",
   "metadata": {},
   "outputs": [],
   "source": [
    "# Lê o arquivo do Excel em um DataFrame do pandas\n",
    "# DataFrame é uma estrutura de dados utilizada para podermos trabalhar com planilhas do excel no python\n",
    "df = pd.read_excel('trfrj1Amostra.xlsx')\n",
    "\n",
    "# Para utilizar esse código em outros casos, lembre-se de alterar a identificação da planilha a ser lida"
   ]
  },
  {
   "cell_type": "code",
   "execution_count": 36,
   "id": "2dc98430",
   "metadata": {},
   "outputs": [],
   "source": [
    "# Define o nível de confiança e a margem de erro desejados\n",
    "confianca = 0.95\n",
    "margem_erro = 0.05\n",
    "\n",
    "# Determina o valor crítico da distribuição normal para o nível de confiança desejado\n",
    "# stats.norm.ppf retorna o valor crítico associado a uma distribuição normal.\n",
    "z = abs(stats.norm.ppf((1 - confianca) / 2))\n",
    "\n",
    "# Estima a proporção da característica de interesse na população (pode ser 0,5 para maximizar o tamanho da amostra)\n",
    "p = 0.5\n",
    "\n",
    "# Obtém o tamanho da população com base na planilha fornecida\n",
    "tamanho_populacao = len(df) - 1\n",
    "\n",
    "# Calcula o tamanho da amostra necessário com base na fórmula do tamanho da amostra\n",
    "tamanho_amostra = math.ceil((tamanho_populacao * z**2 * p * (1-p)) / ((tamanho_populacao - 1) * margem_erro**2 + z**2 * p * (1-p)))"
   ]
  },
  {
   "cell_type": "code",
   "execution_count": 37,
   "id": "aac5040d",
   "metadata": {},
   "outputs": [],
   "source": [
    "# Seleciona uma amostra aleatória de linhas\n",
    "amostra = df.sample(n=tamanho_amostra, random_state=1)\n",
    "\n",
    "# Salva a amostra como um arquivo do Excel\n",
    "amostra.to_excel('trfrj1Amostra-Selecionados.xlsx', sheet_name='Amostra', index=False)"
   ]
  },
  {
   "cell_type": "code",
   "execution_count": 38,
   "id": "5778a1e7",
   "metadata": {},
   "outputs": [],
   "source": [
    "# Atualiza o arquivo original para indicar quais linhas foram selecionadas\n",
    "wb_orig = load_workbook(filename=\"trfrj1Amostra.xlsx\")\n",
    "ws_orig = wb_orig.active\n",
    "\n",
    "# Cria uma nova coluna para indicar se a linha foi selecionada ou não\n",
    "ws_orig.insert_cols(len(df.columns) + 1)\n",
    "ws_orig.cell(row=1, column=len(df.columns) + 1, value='Selecionado')\n",
    "\n",
    "# Preenche a nova coluna com os valores 'Sim' ou 'Não' para cada linha\n",
    "for row_num, row_data in df.iterrows():\n",
    "    if row_num + 2 in amostra.index:\n",
    "        ws_orig.cell(row=row_num + 2, column=len(df.columns) + 1, value='Sim')\n",
    "    else:\n",
    "        ws_orig.cell(row=row_num + 2, column=len(df.columns) + 1, value='Não')\n",
    "\n",
    "# Salva o arquivo original atualizado\n",
    "wb_orig.save('trfrj1Amostra_atualizado.xlsx')"
   ]
  }
 ],
 "metadata": {
  "kernelspec": {
   "display_name": "Python 3 (ipykernel)",
   "language": "python",
   "name": "python3"
  },
  "language_info": {
   "codemirror_mode": {
    "name": "ipython",
    "version": 3
   },
   "file_extension": ".py",
   "mimetype": "text/x-python",
   "name": "python",
   "nbconvert_exporter": "python",
   "pygments_lexer": "ipython3",
   "version": "3.9.12"
  }
 },
 "nbformat": 4,
 "nbformat_minor": 5
}
